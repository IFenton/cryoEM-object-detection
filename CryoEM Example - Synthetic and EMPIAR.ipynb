{
 "cells": [
  {
   "cell_type": "markdown",
   "id": "a80d17f4",
   "metadata": {},
   "source": [
    "# CryoEM Example - Synthetic and EMPIAR"
   ]
  },
  {
   "cell_type": "markdown",
   "id": "f5d25894",
   "metadata": {},
   "source": [
    "## Import and configure packages"
   ]
  },
  {
   "cell_type": "code",
   "execution_count": null,
   "id": "c4a157c3",
   "metadata": {},
   "outputs": [],
   "source": [
    "import matplotlib.pyplot as plt\n",
    "import scivision"
   ]
  },
  {
   "cell_type": "code",
   "execution_count": null,
   "id": "0d1eb18e",
   "metadata": {},
   "outputs": [],
   "source": [
    "# matplotlib settings\n",
    "plt.rcParams[\"figure.figsize\"] = (16,16)\n",
    "plt.rcParams[\"image.cmap\"] = \"gray\""
   ]
  },
  {
   "cell_type": "markdown",
   "id": "bdc22a2e",
   "metadata": {},
   "source": [
    "## Load the pretrained ODIN model"
   ]
  },
  {
   "cell_type": "code",
   "execution_count": null,
   "id": "bb3197d9",
   "metadata": {},
   "outputs": [],
   "source": [
    "# TODO: make odin an installable package\n",
    "model = scivision.load_pretrained_model(\"https://github.com/alan-turing-institute/odin\")"
   ]
  },
  {
   "cell_type": "markdown",
   "id": "1b0ffd5c",
   "metadata": {},
   "source": [
    "## Synthetic data example"
   ]
  },
  {
   "cell_type": "markdown",
   "id": "b4b8d126",
   "metadata": {},
   "source": [
    "The repository containing this notebook itself provides a **Scivision datasource**, describing some synthetic data, which we use in the first example.\n",
    "\n",
    "Load the datasource in this repository:"
   ]
  },
  {
   "cell_type": "code",
   "execution_count": null,
   "id": "9cc574b5",
   "metadata": {},
   "outputs": [],
   "source": [
    "cat = scivision.load_dataset(\"./\")"
   ]
  },
  {
   "cell_type": "markdown",
   "id": "9311b554",
   "metadata": {},
   "source": [
    "Inspecting its contents, we notice that there are two entries: For this first example, we will use `synthetic_soup`:"
   ]
  },
  {
   "cell_type": "code",
   "execution_count": null,
   "id": "734ea540",
   "metadata": {},
   "outputs": [],
   "source": [
    "list(cat.keys())"
   ]
  },
  {
   "cell_type": "code",
   "execution_count": null,
   "id": "26854c7a",
   "metadata": {},
   "outputs": [],
   "source": [
    "cat.synthetic_soup.description"
   ]
  },
  {
   "cell_type": "code",
   "execution_count": null,
   "id": "dfcc8238",
   "metadata": {},
   "outputs": [],
   "source": [
    "# a numpy array of shape (1000,500,500,3)\n",
    "# TODO:\n",
    "# images, bounding_boxes, labels = cat_scivision.synthetic_soup.read()\n",
    "\n",
    "images = cat.synthetic_soup.read()"
   ]
  },
  {
   "cell_type": "code",
   "execution_count": null,
   "id": "ec958bb4",
   "metadata": {},
   "outputs": [],
   "source": [
    "plt.imshow(images[0])"
   ]
  },
  {
   "cell_type": "markdown",
   "id": "213f7120",
   "metadata": {},
   "source": [
    "Highlight bounding boxes (ground truth):"
   ]
  },
  {
   "cell_type": "code",
   "execution_count": null,
   "id": "57103790",
   "metadata": {},
   "outputs": [],
   "source": [
    "# TODO: plot with bounding boxes"
   ]
  },
  {
   "cell_type": "code",
   "execution_count": null,
   "id": "3a9fbd95",
   "metadata": {},
   "outputs": [],
   "source": [
    "# array of bounding boxes, shape (Nboxes, 4) - no labels required\n",
    "model.predict(images[0])"
   ]
  },
  {
   "cell_type": "markdown",
   "id": "859bbb50",
   "metadata": {},
   "source": [
    "## EMPIAR example"
   ]
  },
  {
   "cell_type": "code",
   "execution_count": null,
   "id": "63c851b6",
   "metadata": {},
   "outputs": [],
   "source": [
    "keys = list(cat.one_empiar_dataset.keys())\n",
    "keys"
   ]
  },
  {
   "cell_type": "code",
   "execution_count": null,
   "id": "5233fb97",
   "metadata": {},
   "outputs": [],
   "source": [
    "empiar_10185 = cat.one_empiar_dataset[keys[0]]\n",
    "empiar_10185"
   ]
  },
  {
   "cell_type": "markdown",
   "id": "4090e4b7",
   "metadata": {},
   "source": [
    "For our example, we want to load just one image from the dataset.  This is possible with `read_partition()`\n",
    "(TODO: link to intake docs)"
   ]
  },
  {
   "cell_type": "code",
   "execution_count": null,
   "id": "4fbfb68c",
   "metadata": {},
   "outputs": [],
   "source": [
    "image = empiar_10185.read_partition(0)"
   ]
  },
  {
   "cell_type": "code",
   "execution_count": null,
   "id": "8e008d89",
   "metadata": {},
   "outputs": [],
   "source": [
    "bbs_empiar = model.predict(image)"
   ]
  },
  {
   "cell_type": "code",
   "execution_count": null,
   "id": "7035f7c6",
   "metadata": {},
   "outputs": [],
   "source": [
    "# TODO plot bounding boxes"
   ]
  }
 ],
 "metadata": {
  "kernelspec": {
   "display_name": ".venv kernel",
   "language": "python",
   "name": ".venv"
  },
  "language_info": {
   "codemirror_mode": {
    "name": "ipython",
    "version": 3
   },
   "file_extension": ".py",
   "mimetype": "text/x-python",
   "name": "python",
   "nbconvert_exporter": "python",
   "pygments_lexer": "ipython3",
   "version": "3.8.2"
  }
 },
 "nbformat": 4,
 "nbformat_minor": 5
}
