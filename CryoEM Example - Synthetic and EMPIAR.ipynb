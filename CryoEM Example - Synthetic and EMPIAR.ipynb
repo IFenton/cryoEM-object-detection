{
 "cells": [
  {
   "cell_type": "markdown",
   "id": "a80d17f4",
   "metadata": {},
   "source": [
    "# CryoEM Example - Synthetic and EMPIAR"
   ]
  },
  {
   "cell_type": "code",
   "execution_count": null,
   "id": "c4a157c3",
   "metadata": {},
   "outputs": [],
   "source": [
    "import scivision\n",
    "import intake"
   ]
  },
  {
   "cell_type": "code",
   "execution_count": null,
   "id": "bb3197d9",
   "metadata": {},
   "outputs": [],
   "source": [
    "# TODO: make odin an installable package\n",
    "model = scivision.load_pretrained_model(\"https://github.com/alan-turing-institute/odin\")"
   ]
  },
  {
   "cell_type": "markdown",
   "id": "1b0ffd5c",
   "metadata": {},
   "source": [
    "## Synthetic data example"
   ]
  },
  {
   "cell_type": "markdown",
   "id": "3d4510cf",
   "metadata": {},
   "source": [
    "Data intake catalog (goes elsewhere)"
   ]
  },
  {
   "cell_type": "code",
   "execution_count": null,
   "id": "051864b1",
   "metadata": {},
   "outputs": [],
   "source": [
    "%%writefile scivision_soup_data.yml\n",
    "sources:\n",
    "    synthetic_soup:\n",
    "        description: Generate numpy array of synthetic cryoEM images\n",
    "        driver: synthetic_alphabetsoup\n",
    "        args:\n",
    "            datashape: [500, 500]\n",
    "            image_count: 10\n",
    "            ctf_defocus: 5e3\n",
    "            ctf_box_size: 512\n",
    "            # seed: 1234"
   ]
  },
  {
   "cell_type": "code",
   "execution_count": null,
   "id": "9cc574b5",
   "metadata": {},
   "outputs": [],
   "source": [
    "cat_scivision = scivision.load_dataset('scivision_soup_data.yml')"
   ]
  },
  {
   "cell_type": "code",
   "execution_count": null,
   "id": "cf78c0ac",
   "metadata": {},
   "outputs": [],
   "source": [
    "# Alternatively: load directly from intake\n",
    "\n",
    "# A synthetic cryoEM dataset\n",
    "cat_intake = intake.open_synthetic_alphabetsoup()"
   ]
  },
  {
   "cell_type": "code",
   "execution_count": null,
   "id": "dfcc8238",
   "metadata": {},
   "outputs": [],
   "source": [
    "# a numpy array of shape (1000,500,500,3)\n",
    "# TODO:\n",
    "# images, bounding_boxes, labels = cat_scivision.synthetic_soup.read()\n",
    "\n",
    "images = cat_scivision.synthetic_soup.read()"
   ]
  },
  {
   "cell_type": "code",
   "execution_count": null,
   "id": "9d7bec79",
   "metadata": {},
   "outputs": [],
   "source": [
    "# bounding boxes are\n",
    "#  np.array([x_top_left, y_top_left, x_bottom_right, y_bottom_right])"
   ]
  },
  {
   "cell_type": "code",
   "execution_count": null,
   "id": "3a9fbd95",
   "metadata": {},
   "outputs": [],
   "source": [
    "# array of bounding boxes, shape (Nboxes, 4) - no labels required\n",
    "model.predict(images[0])"
   ]
  },
  {
   "cell_type": "markdown",
   "id": "859bbb50",
   "metadata": {},
   "source": [
    "## EMPIAR example"
   ]
  },
  {
   "cell_type": "markdown",
   "id": "8a9099d6",
   "metadata": {},
   "source": [
    "Data intake catalog (goes elsewhere)"
   ]
  },
  {
   "cell_type": "code",
   "execution_count": null,
   "id": "f706d2f3",
   "metadata": {},
   "outputs": [],
   "source": [
    "%%writefile scivision_empiar_data.yml\n",
    "sources:\n",
    "    one_empiar_dataset:\n",
    "        driver: empiar_driver\n",
    "            args:\n",
    "                empiar_index: 10185\n",
    "                mrc_directory: \"directory\" # optional\n",
    "                star_directory: \"directory\" # optional\n",
    "\n",
    "# perhaps: xarray DataSet with mrc array (ragged) and star array (?) - currently separate arrays"
   ]
  },
  {
   "cell_type": "code",
   "execution_count": null,
   "id": "63c851b6",
   "metadata": {},
   "outputs": [],
   "source": [
    "cat2 = scivision.load_dataset('scivision_empiar_data.yml')"
   ]
  },
  {
   "cell_type": "code",
   "execution_count": null,
   "id": "8e008d89",
   "metadata": {},
   "outputs": [],
   "source": [
    "bbs_empiar = [model.predict(img) for img in images]"
   ]
  }
 ],
 "metadata": {
  "kernelspec": {
   "display_name": ".venv kernel",
   "language": "python",
   "name": ".venv"
  },
  "language_info": {
   "codemirror_mode": {
    "name": "ipython",
    "version": 3
   },
   "file_extension": ".py",
   "mimetype": "text/x-python",
   "name": "python",
   "nbconvert_exporter": "python",
   "pygments_lexer": "ipython3",
   "version": "3.8.2"
  }
 },
 "nbformat": 4,
 "nbformat_minor": 5
}
