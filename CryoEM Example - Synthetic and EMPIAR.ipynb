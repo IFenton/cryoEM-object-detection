{
 "cells": [
  {
   "cell_type": "markdown",
   "id": "97789d6c",
   "metadata": {},
   "source": [
    "# CryoEM Example - Synthetic and EMPIAR"
   ]
  },
  {
   "cell_type": "markdown",
   "id": "4cdff0b6",
   "metadata": {},
   "source": [
    "TODO introductory text"
   ]
  },
  {
   "cell_type": "markdown",
   "id": "b187b79d",
   "metadata": {},
   "source": [
    "## Import and configure packages"
   ]
  },
  {
   "cell_type": "code",
   "execution_count": null,
   "id": "c4a157c3",
   "metadata": {},
   "outputs": [],
   "source": [
    "import matplotlib.pyplot as plt\n",
    "import scivision\n",
    "\n",
    "from matplotlib.colors import LogNorm\n",
    "from matplotlib.patches import Rectangle"
   ]
  },
  {
   "cell_type": "code",
   "execution_count": null,
   "id": "bfba61e6",
   "metadata": {},
   "outputs": [],
   "source": [
    "# matplotlib settings\n",
    "plt.rcParams[\"figure.figsize\"] = (16,16)\n",
    "plt.rcParams[\"image.cmap\"] = \"gray\""
   ]
  },
  {
   "cell_type": "markdown",
   "id": "9d2161b6",
   "metadata": {},
   "source": [
    "## Load the pretrained ODIN model"
   ]
  },
  {
   "cell_type": "markdown",
   "id": "9771982e",
   "metadata": {},
   "source": [
    "TODO description of ODIN"
   ]
  },
  {
   "cell_type": "code",
   "execution_count": null,
   "id": "bb3197d9",
   "metadata": {},
   "outputs": [],
   "source": [
    "# TODO: make odin an installable package\n",
    "model = scivision.load_pretrained_model(\"https://github.com/alan-turing-institute/odin\")"
   ]
  },
  {
   "cell_type": "markdown",
   "id": "1b0ffd5c",
   "metadata": {},
   "source": [
    "## Synthetic data example"
   ]
  },
  {
   "cell_type": "markdown",
   "id": "10f09f56",
   "metadata": {},
   "source": [
    "The repository containing this notebook itself provides a **Scivision datasource**, describing some synthetic data, which we use in the first example.\n",
    "\n",
    "Load the datasource contained in this directory:"
   ]
  },
  {
   "cell_type": "code",
   "execution_count": null,
   "id": "9cc574b5",
   "metadata": {},
   "outputs": [],
   "source": [
    "cat = scivision.load_dataset(\"./\")"
   ]
  },
  {
   "cell_type": "markdown",
   "id": "03656772",
   "metadata": {},
   "source": [
    "Inspecting its contents, we notice that there are two entries: For this first example, we will use `synthetic_soup`:"
   ]
  },
  {
   "cell_type": "code",
   "execution_count": null,
   "id": "02fcd05e",
   "metadata": {},
   "outputs": [],
   "source": [
    "list(cat.keys())"
   ]
  },
  {
   "cell_type": "code",
   "execution_count": null,
   "id": "a337a3fc",
   "metadata": {},
   "outputs": [],
   "source": [
    "cat.synthetic_soup.description"
   ]
  },
  {
   "cell_type": "code",
   "execution_count": null,
   "id": "dfcc8238",
   "metadata": {},
   "outputs": [],
   "source": [
    "images, bounding_boxes, labels = cat.synthetic_soup.read()"
   ]
  },
  {
   "cell_type": "code",
   "execution_count": null,
   "id": "859a2e8d",
   "metadata": {},
   "outputs": [],
   "source": [
    "plt.imshow(images[0])"
   ]
  },
  {
   "cell_type": "markdown",
   "id": "983c7a77",
   "metadata": {},
   "source": [
    "Highlight bounding boxes (ground truth):"
   ]
  },
  {
   "cell_type": "code",
   "execution_count": null,
   "id": "b6fced53",
   "metadata": {},
   "outputs": [],
   "source": [
    "def box_to_patch(xmin, ymin, xmax, ymax):\n",
    "    return Rectangle(\n",
    "        xy=(xmin, ymin),\n",
    "        height=ymax - ymin,\n",
    "        width=xmax - xmin,\n",
    "        linewidth=1,\n",
    "        edgecolor=(0,1,0),\n",
    "        facecolor='none',\n",
    "    )\n",
    "\n",
    "\n",
    "plt.imshow(images[0])\n",
    "\n",
    "ax = plt.gca()\n",
    "for bbox in bounding_boxes[0]:\n",
    "    ax.add_patch(box_to_patch(*bbox))"
   ]
  },
  {
   "cell_type": "code",
   "execution_count": null,
   "id": "3a9fbd95",
   "metadata": {},
   "outputs": [],
   "source": [
    "bounding_boxes_synthetic_pred = model.predict(images[0])"
   ]
  },
  {
   "cell_type": "markdown",
   "id": "859bbb50",
   "metadata": {},
   "source": [
    "## EMPIAR example"
   ]
  },
  {
   "cell_type": "markdown",
   "id": "f119b024",
   "metadata": {},
   "source": [
    "We now look at the second entry in the catalog, `one_empiar_dataset`, which points to an entry in the [EMPIAR](https://www.ebi.ac.uk/empiar/) archive.\n",
    "\n",
    "TODO description of 10050"
   ]
  },
  {
   "cell_type": "markdown",
   "id": "00836225",
   "metadata": {},
   "source": [
    "This in turn contains several sets of images, one of which we load:"
   ]
  },
  {
   "cell_type": "code",
   "execution_count": null,
   "id": "63c851b6",
   "metadata": {},
   "outputs": [],
   "source": [
    "keys = list(cat.one_empiar_dataset.keys())\n",
    "keys"
   ]
  },
  {
   "cell_type": "code",
   "execution_count": null,
   "id": "e1b68cac",
   "metadata": {},
   "outputs": [],
   "source": [
    "empiar_10050 = cat.one_empiar_dataset[\"VPP_Prx3_7.3res\"]\n",
    "empiar_10050"
   ]
  },
  {
   "cell_type": "markdown",
   "id": "39d60844",
   "metadata": {},
   "source": [
    "For our example, we want to load just one image from the dataset.  This is done with [`read_partition()`](https://intake.readthedocs.io/en/latest/roadmap.html?highlight=read_partition#reader-api)."
   ]
  },
  {
   "cell_type": "code",
   "execution_count": null,
   "id": "fd42f8d7",
   "metadata": {},
   "outputs": [],
   "source": [
    "image = empiar_10050.read_partition(0)"
   ]
  },
  {
   "cell_type": "code",
   "execution_count": null,
   "id": "f7fbf67e",
   "metadata": {},
   "outputs": [],
   "source": [
    "plt.imshow(image.sel(frame=2), norm=LogNorm())"
   ]
  },
  {
   "cell_type": "code",
   "execution_count": null,
   "id": "8e008d89",
   "metadata": {},
   "outputs": [],
   "source": [
    "bounding_boxes_empiar_pred = model.predict(image)"
   ]
  },
  {
   "cell_type": "code",
   "execution_count": null,
   "id": "b14d4be5",
   "metadata": {},
   "outputs": [],
   "source": [
    "# TODO plot bounding boxes"
   ]
  }
 ],
 "metadata": {
  "kernelspec": {
   "display_name": ".venv kernel",
   "language": "python",
   "name": ".venv"
  },
  "language_info": {
   "codemirror_mode": {
    "name": "ipython",
    "version": 3
   },
   "file_extension": ".py",
   "mimetype": "text/x-python",
   "name": "python",
   "nbconvert_exporter": "python",
   "pygments_lexer": "ipython3",
   "version": "3.8.2"
  }
 },
 "nbformat": 4,
 "nbformat_minor": 5
}
